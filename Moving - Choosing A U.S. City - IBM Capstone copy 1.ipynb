{
    "nbformat_minor": 1, 
    "cells": [
        {
            "source": "# Choosing a U.S. City to Live In To Pursue Data Science Career", 
            "cell_type": "markdown", 
            "metadata": {
                "collapsed": true
            }
        }, 
        {
            "source": "## Introduction ", 
            "cell_type": "markdown", 
            "metadata": {}
        }, 
        {
            "source": "Pursuing a Data Science career is a exciting option for scientists and business people wanting to break into the technology industry.\n\nFor people transitioning to a data science career, a consideration is whether or not it would be beneficial to move to some of the cities known as tech hubs such as San Francisco. Although this is an attractive option, there are other considerations that should be weighed in order to make the best decision.\n\nApart from career prospects, one should choose a new home based on personal preferences. \n\nIn this project, I will gather some data about several cities in mind and determine which one is the best fit for my preferences and my new career.", 
            "cell_type": "markdown", 
            "metadata": {}
        }, 
        {
            "source": "## Objective", 
            "cell_type": "markdown", 
            "metadata": {}
        }, 
        {
            "source": "To evaluate several U.S. cities more objectively based on personal preferences for lifestyle and health. ", 
            "cell_type": "markdown", 
            "metadata": {}
        }, 
        {
            "source": "## Preferences", 
            "cell_type": "markdown", 
            "metadata": {}
        }, 
        {
            "source": "- Weather: A mild weather is preferred.\n- Pollen and mold: Lower pollen and mold counts are preferred.\n- Scenery: A city near mountains is preferred.\n- Urbanization and beautification: A city with a large number of parks is preferred.\n- Outdoors: the availability of hiking trails and outdoor venues is preferred.\n- Political views: blue state\n- Career: tech hub.", 
            "cell_type": "markdown", 
            "metadata": {}
        }, 
        {
            "source": "## Audience", 
            "cell_type": "markdown", 
            "metadata": {}
        }, 
        {
            "source": "This project may be of interest to any person trying to figure out where to move. In order to make an objective, responsible decision, one must research and weigh pros and cons.", 
            "cell_type": "markdown", 
            "metadata": {}
        }, 
        {
            "source": "Machine Learning may be better able to determine where we should move than ourselves.", 
            "cell_type": "markdown", 
            "metadata": {}
        }, 
        {
            "source": "## Data", 
            "cell_type": "markdown", 
            "metadata": {}
        }, 
        {
            "source": "I will gather data from various U.S. Cities that will be correlated to the measures listed above. For example, the number of recycling centers may be correlated with political affiliation.\nPresence of tech startups and coworking spaces is a proxy for tech hub.\nSpiritual centers would be a measure of diversity of thought.\nStreet Art, Sculpture, Botanical gardens, parks, trees, and trails will be proxy of beautification.\nUniversity will be proxy of educational status of population.", 
            "cell_type": "markdown", 
            "metadata": {}
        }, 
        {
            "source": "# Methodology", 
            "cell_type": "markdown", 
            "metadata": {}
        }, 
        {
            "source": "Firstly, Foursquare data ", 
            "cell_type": "markdown", 
            "metadata": {}
        }, 
        {
            "source": "## Libraries", 
            "cell_type": "markdown", 
            "metadata": {}
        }, 
        {
            "source": "\nimport pandas as pd\nimport numpy as np\nimport requests\n\nimport numpy as np # library to handle data in a vectorized manner\nimport json # library to handle JSON files\nimport matplotlib.cm as cm # Matplotlib and associated plotting modules\nimport matplotlib.colors as colors\n\nimport plotly\nimport plotly.plotly as py\nimport plotly.figure_factory as ff\n\n\n!conda install -c conda-forge geopy --yes # uncomment this line if you haven't completed the Foursquare API lab\nfrom geopy import Nominatim # convert an address into latitude and longitude values\nfrom pandas.io.json import json_normalize # tranform JSON file into a pandas dataframe\nfrom pandas.io.html import read_html\nfrom sklearn.cluster import KMeans # import k-means from clustering stage\n\n!conda install -c conda-forge folium=0.5.0 --yes # uncomment this line if you haven't completed the Foursquare API lab\nimport folium # map rendering library\npd.set_option('display.max_columns', None)\npd.set_option('display.max_rows', None)\n\nprint('Libraries imported.')", 
            "cell_type": "code", 
            "metadata": {}, 
            "outputs": [
                {
                    "output_type": "stream", 
                    "name": "stdout", 
                    "text": "Fetching package metadata .............\nSolving package specifications: .\n\nPackage plan for installation in environment /opt/conda/envs/DSX-Python35:\n\nThe following NEW packages will be INSTALLED:\n\n    geographiclib: 1.49-py_0   conda-forge\n    geopy:         1.19.0-py_0 conda-forge\n\ngeographiclib- 100% |################################| Time: 0:00:00  24.91 MB/s\ngeopy-1.19.0-p 100% |################################| Time: 0:00:00  37.00 MB/s\nFetching package metadata .............\nSolving package specifications: .\n\nPackage plan for installation in environment /opt/conda/envs/DSX-Python35:\n\nThe following NEW packages will be INSTALLED:\n\n    altair:  2.2.2-py35_1 conda-forge\n    branca:  0.3.1-py_0   conda-forge\n    folium:  0.5.0-py_0   conda-forge\n    vincent: 0.4.4-py_1   conda-forge\n\naltair-2.2.2-p 100% |################################| Time: 0:00:00  46.28 MB/s\nbranca-0.3.1-p 100% |################################| Time: 0:00:00  36.13 MB/s\nvincent-0.4.4- 100% |################################| Time: 0:00:00  35.60 MB/s\nfolium-0.5.0-p 100% |################################| Time: 0:00:00  42.33 MB/s\nLibraries imported.\n"
                }
            ], 
            "execution_count": 1
        }, 
        {
            "source": "import matplotlib.pyplot as plt", 
            "cell_type": "code", 
            "metadata": {}, 
            "outputs": [], 
            "execution_count": 108
        }, 
        {
            "source": "# Methodology", 
            "cell_type": "markdown", 
            "metadata": {}
        }, 
        {
            "source": "### 1. Create a list with cities of interest", 
            "cell_type": "markdown", 
            "metadata": {}
        }, 
        {
            "source": "# Enter the names of the cities of interest\ncities = ['Houston, TX','Austin, TX','Denver, CO','Seattle, WA','San Francisco, CA','Portland, OR']", 
            "cell_type": "code", 
            "metadata": {}, 
            "outputs": [], 
            "execution_count": 109
        }, 
        {
            "source": "### 2. Look up in Foursquare Docs the venue category IDs that match personal preferences and store them in thematical lists", 
            "cell_type": "markdown", 
            "metadata": {}
        }, 
        {
            "source": "#Outdoors and Recreation Venues: Trails, Bike Trail, Botanical Gardens, Forest, Mountain, Nature Preserve, National Park, Park, Tree, Outdoor Event Space\n\noutdoors_venues_ID = ['4bf58dd8d48988d159941735','56aa371be4b08b9a8d57355e','52e81612bcbc57f1066b7a22','52e81612bcbc57f1066b7a23','4eb1d4d54b900d56c88a45fc','52e81612bcbc57f1066b7a13','52e81612bcbc57f1066b7a21','4bf58dd8d48988d163941735','56aa371be4b08b9a8d57356a']\n                      \n# Professional & Other Places:  Tech Startup\n\nprofessional_venues_ID = ['4bf58dd8d48988d125941735']\n    \n#cultural venues:  Spiritual Center: Buddhist Temple, Hindu Temple, \n\ncultural_venues_ID = ['52e81612bcbc57f1066b7a3e','52e81612bcbc57f1066b7a3f']\n\n# Food and drink shop: Farmers Market, Health Food Store, Organic Grocery, Fruit and Vegetable Store, Juice Bar\n\nfood_venues_ID = ['4bf58dd8d48988d1fa941735','50aa9e744b90af0d42d5de0e','52f2ab2ebcbc57f1066b8b45','52f2ab2ebcbc57f1066b8b1c','4bf58dd8d48988d112941735']\n\n# Beautification: Park, \n\nbeauty_venues_ID = ['4bf58dd8d48988d163941735']\n\ncategoryIDs = [outdoors_venues_ID,professional_venues_ID,cultural_venues_ID,food_venues_ID,beauty_venues_ID]\n\n# create a dataframe to extract the Foursquare data into.\n\n", 
            "cell_type": "code", 
            "metadata": {}, 
            "outputs": [], 
            "execution_count": 113
        }, 
        {
            "source": "### 3. Create a Function to Connect and Extract Data from Foursquare", 
            "cell_type": "markdown", 
            "metadata": {}
        }, 
        {
            "source": "# This function connects to Foursquare and extracts venues matching a CategoryID and \n# stores them in the dataframe designated.\n\ndef getFoursquareCityData(cities, categoryIDs, limit, max_radius):\n\n    # Connect to Foursquare and Query each city to find the number of each venue.\n\n    client_ID = 'HJQTB2PO3CQ31PY0D3MKAFCODL1XOO2RLY3VXWZ2XVOUHERI'\n    client_secret = 'YVXU2GICCUXXHV00HDZUG2ZCR5WG50VYWQCCF14A5JJYY31Y'\n    version = '20180605' # Foursquare API version\n\n    print('Your credentails:')\n    print('CLIENT_ID: ' + client_ID)\n    print('CLIENT_SECRET:' + client_secret)\n\n    venues_list = []\n    venues_df = pd.DataFrame(columns = ['City','CategoryID','Venue','Latitude','Longitude','Type'])\n    \n    for city in cities:\n        for list in categoryIDs:\n            for category in list:\n                url = 'https://api.foursquare.com/v2/venues/explore?&client_id={}&client_secret={}&v={}&near={}&radius={}&limit={}&categoryId={}'.format(\n                    client_ID,\n                    client_secret,\n                    version,\n                    city,\n                    max_radius,\n                    limit,\n                    category)\n\n                city_abr = city.upper()[:3]\n                try:\n                    venues = requests.get(url).json()['response']['groups'][0]['items']\n\n                    venues_list.append([(\n                    city,\n                    category,\n                    v['venue']['name'], \n                    v['venue']['location']['lat'], \n                    v['venue']['location']['lng'],\n                    v['venue']['categories'][0]['name']) for v in venues])\n                except IndexError:\n                    continue\n                except KeyError:\n                    continue\n\n            venues_df = pd.DataFrame([item for venue_list in venues_list for item in venue_list])\n        print(city_abr + \" records extracted.\")\n    print(\"The size of your venue dataframe is:\")\n    print(venues_df.shape)\n    return venues_df\n ", 
            "cell_type": "code", 
            "metadata": {}, 
            "outputs": [], 
            "execution_count": 120
        }, 
        {
            "source": "### 4. Populate the venues dataframe with the raw data", 
            "cell_type": "markdown", 
            "metadata": {}
        }, 
        {
            "source": "venues_df = getFoursquareCityData(cities, categoryIDs, 100, 100000)", 
            "cell_type": "code", 
            "metadata": {
                "scrolled": true
            }, 
            "outputs": [
                {
                    "output_type": "stream", 
                    "name": "stdout", 
                    "text": "Your credentails:\nCLIENT_ID: HJQTB2PO3CQ31PY0D3MKAFCODL1XOO2RLY3VXWZ2XVOUHERI\nCLIENT_SECRET:YVXU2GICCUXXHV00HDZUG2ZCR5WG50VYWQCCF14A5JJYY31Y\nHOU records extracted.\nAUS records extracted.\nDEN records extracted.\nSEA records extracted.\nSAN records extracted.\nPOR records extracted.\nThe size of your venue dataframe is:\n(5964, 6)\n"
                }
            ], 
            "execution_count": 122
        }, 
        {
            "source": "venues_df.columns = ['City','CategoryID','Venue','Latitude','Longitude','Type']", 
            "cell_type": "code", 
            "metadata": {}, 
            "outputs": [], 
            "execution_count": 129
        }, 
        {
            "source": "### 5. QC and Filter the Foursquare data in the dataframe", 
            "cell_type": "markdown", 
            "metadata": {}
        }, 
        {
            "source": "#### Data QC", 
            "cell_type": "markdown", 
            "metadata": {}
        }, 
        {
            "source": "venues_df.head()", 
            "cell_type": "code", 
            "metadata": {}, 
            "outputs": [
                {
                    "output_type": "execute_result", 
                    "data": {
                        "text/html": "<div>\n<style scoped>\n    .dataframe tbody tr th:only-of-type {\n        vertical-align: middle;\n    }\n\n    .dataframe tbody tr th {\n        vertical-align: top;\n    }\n\n    .dataframe thead th {\n        text-align: right;\n    }\n</style>\n<table border=\"1\" class=\"dataframe\">\n  <thead>\n    <tr style=\"text-align: right;\">\n      <th></th>\n      <th>City</th>\n      <th>CategoryID</th>\n      <th>Venue</th>\n      <th>Latitude</th>\n      <th>Longitude</th>\n      <th>Type</th>\n    </tr>\n  </thead>\n  <tbody>\n    <tr>\n      <th>0</th>\n      <td>Houston, TX</td>\n      <td>4bf58dd8d48988d159941735</td>\n      <td>Buffalo Bayou Walk</td>\n      <td>29.762177</td>\n      <td>-95.375844</td>\n      <td>Trail</td>\n    </tr>\n    <tr>\n      <th>1</th>\n      <td>Houston, TX</td>\n      <td>4bf58dd8d48988d159941735</td>\n      <td>Buffalo Bayou Park</td>\n      <td>29.762068</td>\n      <td>-95.391626</td>\n      <td>Park</td>\n    </tr>\n    <tr>\n      <th>2</th>\n      <td>Houston, TX</td>\n      <td>4bf58dd8d48988d159941735</td>\n      <td>Houston Arboretum &amp; Nature Center</td>\n      <td>29.765361</td>\n      <td>-95.452177</td>\n      <td>Botanical Garden</td>\n    </tr>\n    <tr>\n      <th>3</th>\n      <td>Houston, TX</td>\n      <td>4bf58dd8d48988d159941735</td>\n      <td>Herman Park Trails</td>\n      <td>29.719804</td>\n      <td>-95.388748</td>\n      <td>Trail</td>\n    </tr>\n    <tr>\n      <th>4</th>\n      <td>Houston, TX</td>\n      <td>4bf58dd8d48988d159941735</td>\n      <td>Terry Hershey Park</td>\n      <td>29.779138</td>\n      <td>-95.623096</td>\n      <td>Park</td>\n    </tr>\n  </tbody>\n</table>\n</div>", 
                        "text/plain": "          City                CategoryID                              Venue  \\\n0  Houston, TX  4bf58dd8d48988d159941735                 Buffalo Bayou Walk   \n1  Houston, TX  4bf58dd8d48988d159941735                 Buffalo Bayou Park   \n2  Houston, TX  4bf58dd8d48988d159941735  Houston Arboretum & Nature Center   \n3  Houston, TX  4bf58dd8d48988d159941735                 Herman Park Trails   \n4  Houston, TX  4bf58dd8d48988d159941735                 Terry Hershey Park   \n\n    Latitude  Longitude              Type  \n0  29.762177 -95.375844             Trail  \n1  29.762068 -95.391626              Park  \n2  29.765361 -95.452177  Botanical Garden  \n3  29.719804 -95.388748             Trail  \n4  29.779138 -95.623096              Park  "
                    }, 
                    "execution_count": 143, 
                    "metadata": {}
                }
            ], 
            "execution_count": 143
        }, 
        {
            "source": "First observations: \n- Found out Tree in Foursquare corresponds to tree cutting services - deleted it from categories for final report\n- Found out duplicates are present\n- Apparently there is a Hogwarts campus in Austin???\n- University, Library, Coworking Space as parameters are not as useful as initially we though. Deleted from categories.", 
            "cell_type": "markdown", 
            "metadata": {}
        }, 
        {
            "source": "Drop Duplicates!", 
            "cell_type": "markdown", 
            "metadata": {}
        }, 
        {
            "source": "venues_df = venues_df.drop_duplicates()", 
            "cell_type": "code", 
            "metadata": {}, 
            "outputs": [], 
            "execution_count": 144
        }, 
        {
            "source": "venues_df.shape", 
            "cell_type": "code", 
            "metadata": {}, 
            "outputs": [
                {
                    "output_type": "execute_result", 
                    "data": {
                        "text/plain": "(5364, 6)"
                    }, 
                    "execution_count": 145, 
                    "metadata": {}
                }
            ], 
            "execution_count": 145
        }, 
        {
            "source": "Deleted that there were 600 duplicate records!", 
            "cell_type": "markdown", 
            "metadata": {}
        }, 
        {
            "source": "#### Filtering the Data", 
            "cell_type": "markdown", 
            "metadata": {}
        }, 
        {
            "source": "Let's find out which city has the most venues of interest and which one the least.", 
            "cell_type": "markdown", 
            "metadata": {}
        }, 
        {
            "source": "# This block of code creates a new dataframe that counts how many total venues are found per city\nvenues_count = pd.DataFrame(venues_df.groupby('City').count()['Venue'])\nvenues_count = venues_count.reset_index()\nmax_number = venues_count['Venue'].max()\nmax_city = venues_count.iloc[venues_count['Venue'].idxmax()][0]\nmin_number = venues_count['Venue'].min()\nmin_city = venues_count.iloc[venues_count['Venue'].idxmin()][0]\nprint('The city with the highest amount of venues matching your interests is: ' + str(max_city) +\n      ' with ' + str(max_number) + ' venues.')\nprint('The city with the lowest amount of venues matching your interests is: ' + str(min_city) +\n      ' with ' + str(min_number) + ' venues.')", 
            "cell_type": "code", 
            "metadata": {
                "scrolled": true
            }, 
            "outputs": [
                {
                    "output_type": "stream", 
                    "name": "stdout", 
                    "text": "The city with the highest amount of venues matching your interests is: San Francisco, CA with 1258 venues.\nThe city with the lowest amount of venues matching your interests is: Houston, TX with 729 venues.\n"
                }
            ], 
            "execution_count": 146
        }, 
        {
            "source": "Let's find out which venue types are more relevant to include in our analysis", 
            "cell_type": "markdown", 
            "metadata": {}
        }, 
        {
            "source": "# create lists of cities and number of venues for easy graphical representation\nN = len(cities)\ncities = []\ntotal_number_venues_list = []\nfor index in range(0,N):\n    city_total = total_venues.iloc[index][1]\n    cities.append(total_venues.iloc[index][0])\n    total_number_venues_list.append(city_total)", 
            "cell_type": "code", 
            "metadata": {}, 
            "outputs": [], 
            "execution_count": 61
        }, 
        {
            "source": "# Create a dataframe that counts the total number of venues per type found.\nvenue_types_df = pd.DataFrame(venues_df.groupby('Type').count())", 
            "cell_type": "code", 
            "metadata": {}, 
            "outputs": [], 
            "execution_count": 147
        }, 
        {
            "source": "venue_types_df", 
            "cell_type": "code", 
            "metadata": {
                "scrolled": true
            }, 
            "outputs": [
                {
                    "output_type": "execute_result", 
                    "data": {
                        "text/html": "<div>\n<style scoped>\n    .dataframe tbody tr th:only-of-type {\n        vertical-align: middle;\n    }\n\n    .dataframe tbody tr th {\n        vertical-align: top;\n    }\n\n    .dataframe thead th {\n        text-align: right;\n    }\n</style>\n<table border=\"1\" class=\"dataframe\">\n  <thead>\n    <tr style=\"text-align: right;\">\n      <th></th>\n      <th>City</th>\n      <th>CategoryID</th>\n      <th>Venue</th>\n      <th>Latitude</th>\n      <th>Longitude</th>\n    </tr>\n    <tr>\n      <th>Type</th>\n      <th></th>\n      <th></th>\n      <th></th>\n      <th></th>\n      <th></th>\n    </tr>\n  </thead>\n  <tbody>\n    <tr>\n      <th>American Restaurant</th>\n      <td>3</td>\n      <td>3</td>\n      <td>3</td>\n      <td>3</td>\n      <td>3</td>\n    </tr>\n    <tr>\n      <th>Amphitheater</th>\n      <td>3</td>\n      <td>3</td>\n      <td>3</td>\n      <td>3</td>\n      <td>3</td>\n    </tr>\n    <tr>\n      <th>Athletics &amp; Sports</th>\n      <td>2</td>\n      <td>2</td>\n      <td>2</td>\n      <td>2</td>\n      <td>2</td>\n    </tr>\n    <tr>\n      <th>Bakery</th>\n      <td>7</td>\n      <td>7</td>\n      <td>7</td>\n      <td>7</td>\n      <td>7</td>\n    </tr>\n    <tr>\n      <th>Bar</th>\n      <td>1</td>\n      <td>1</td>\n      <td>1</td>\n      <td>1</td>\n      <td>1</td>\n    </tr>\n    <tr>\n      <th>Beach</th>\n      <td>8</td>\n      <td>8</td>\n      <td>8</td>\n      <td>8</td>\n      <td>8</td>\n    </tr>\n    <tr>\n      <th>Big Box Store</th>\n      <td>1</td>\n      <td>1</td>\n      <td>1</td>\n      <td>1</td>\n      <td>1</td>\n    </tr>\n    <tr>\n      <th>Bike Rental / Bike Share</th>\n      <td>2</td>\n      <td>2</td>\n      <td>2</td>\n      <td>2</td>\n      <td>2</td>\n    </tr>\n    <tr>\n      <th>Bike Shop</th>\n      <td>5</td>\n      <td>5</td>\n      <td>5</td>\n      <td>5</td>\n      <td>5</td>\n    </tr>\n    <tr>\n      <th>Bike Trail</th>\n      <td>95</td>\n      <td>95</td>\n      <td>95</td>\n      <td>95</td>\n      <td>95</td>\n    </tr>\n    <tr>\n      <th>Botanical Garden</th>\n      <td>73</td>\n      <td>73</td>\n      <td>73</td>\n      <td>73</td>\n      <td>73</td>\n    </tr>\n    <tr>\n      <th>Breakfast Spot</th>\n      <td>4</td>\n      <td>4</td>\n      <td>4</td>\n      <td>4</td>\n      <td>4</td>\n    </tr>\n    <tr>\n      <th>Bridge</th>\n      <td>5</td>\n      <td>5</td>\n      <td>5</td>\n      <td>5</td>\n      <td>5</td>\n    </tr>\n    <tr>\n      <th>Buddhist Temple</th>\n      <td>100</td>\n      <td>100</td>\n      <td>100</td>\n      <td>100</td>\n      <td>100</td>\n    </tr>\n    <tr>\n      <th>Building</th>\n      <td>2</td>\n      <td>2</td>\n      <td>2</td>\n      <td>2</td>\n      <td>2</td>\n    </tr>\n    <tr>\n      <th>Business Service</th>\n      <td>2</td>\n      <td>2</td>\n      <td>2</td>\n      <td>2</td>\n      <td>2</td>\n    </tr>\n    <tr>\n      <th>Caf\u00e9</th>\n      <td>6</td>\n      <td>6</td>\n      <td>6</td>\n      <td>6</td>\n      <td>6</td>\n    </tr>\n    <tr>\n      <th>Cajun / Creole Restaurant</th>\n      <td>1</td>\n      <td>1</td>\n      <td>1</td>\n      <td>1</td>\n      <td>1</td>\n    </tr>\n    <tr>\n      <th>Campground</th>\n      <td>10</td>\n      <td>10</td>\n      <td>10</td>\n      <td>10</td>\n      <td>10</td>\n    </tr>\n    <tr>\n      <th>Candy Store</th>\n      <td>1</td>\n      <td>1</td>\n      <td>1</td>\n      <td>1</td>\n      <td>1</td>\n    </tr>\n    <tr>\n      <th>Church</th>\n      <td>1</td>\n      <td>1</td>\n      <td>1</td>\n      <td>1</td>\n      <td>1</td>\n    </tr>\n    <tr>\n      <th>City</th>\n      <td>14</td>\n      <td>14</td>\n      <td>14</td>\n      <td>14</td>\n      <td>14</td>\n    </tr>\n    <tr>\n      <th>Coffee Shop</th>\n      <td>5</td>\n      <td>5</td>\n      <td>5</td>\n      <td>5</td>\n      <td>5</td>\n    </tr>\n    <tr>\n      <th>College Quad</th>\n      <td>1</td>\n      <td>1</td>\n      <td>1</td>\n      <td>1</td>\n      <td>1</td>\n    </tr>\n    <tr>\n      <th>Construction &amp; Landscaping</th>\n      <td>1</td>\n      <td>1</td>\n      <td>1</td>\n      <td>1</td>\n      <td>1</td>\n    </tr>\n    <tr>\n      <th>Convenience Store</th>\n      <td>1</td>\n      <td>1</td>\n      <td>1</td>\n      <td>1</td>\n      <td>1</td>\n    </tr>\n    <tr>\n      <th>Coworking Space</th>\n      <td>2</td>\n      <td>2</td>\n      <td>2</td>\n      <td>2</td>\n      <td>2</td>\n    </tr>\n    <tr>\n      <th>Deli / Bodega</th>\n      <td>1</td>\n      <td>1</td>\n      <td>1</td>\n      <td>1</td>\n      <td>1</td>\n    </tr>\n    <tr>\n      <th>Design Studio</th>\n      <td>1</td>\n      <td>1</td>\n      <td>1</td>\n      <td>1</td>\n      <td>1</td>\n    </tr>\n    <tr>\n      <th>Discount Store</th>\n      <td>1</td>\n      <td>1</td>\n      <td>1</td>\n      <td>1</td>\n      <td>1</td>\n    </tr>\n    <tr>\n      <th>Dog Run</th>\n      <td>20</td>\n      <td>20</td>\n      <td>20</td>\n      <td>20</td>\n      <td>20</td>\n    </tr>\n    <tr>\n      <th>Event Space</th>\n      <td>3</td>\n      <td>3</td>\n      <td>3</td>\n      <td>3</td>\n      <td>3</td>\n    </tr>\n    <tr>\n      <th>Farm</th>\n      <td>7</td>\n      <td>7</td>\n      <td>7</td>\n      <td>7</td>\n      <td>7</td>\n    </tr>\n    <tr>\n      <th>Farmers Market</th>\n      <td>460</td>\n      <td>460</td>\n      <td>460</td>\n      <td>460</td>\n      <td>460</td>\n    </tr>\n    <tr>\n      <th>Field</th>\n      <td>4</td>\n      <td>4</td>\n      <td>4</td>\n      <td>4</td>\n      <td>4</td>\n    </tr>\n    <tr>\n      <th>Flea Market</th>\n      <td>2</td>\n      <td>2</td>\n      <td>2</td>\n      <td>2</td>\n      <td>2</td>\n    </tr>\n    <tr>\n      <th>Food &amp; Drink Shop</th>\n      <td>4</td>\n      <td>4</td>\n      <td>4</td>\n      <td>4</td>\n      <td>4</td>\n    </tr>\n    <tr>\n      <th>Food Truck</th>\n      <td>6</td>\n      <td>6</td>\n      <td>6</td>\n      <td>6</td>\n      <td>6</td>\n    </tr>\n    <tr>\n      <th>Forest</th>\n      <td>82</td>\n      <td>82</td>\n      <td>82</td>\n      <td>82</td>\n      <td>82</td>\n    </tr>\n    <tr>\n      <th>Fruit &amp; Vegetable Store</th>\n      <td>181</td>\n      <td>181</td>\n      <td>181</td>\n      <td>181</td>\n      <td>181</td>\n    </tr>\n    <tr>\n      <th>Garden</th>\n      <td>20</td>\n      <td>20</td>\n      <td>20</td>\n      <td>20</td>\n      <td>20</td>\n    </tr>\n    <tr>\n      <th>Garden Center</th>\n      <td>1</td>\n      <td>1</td>\n      <td>1</td>\n      <td>1</td>\n      <td>1</td>\n    </tr>\n    <tr>\n      <th>Gas Station</th>\n      <td>1</td>\n      <td>1</td>\n      <td>1</td>\n      <td>1</td>\n      <td>1</td>\n    </tr>\n    <tr>\n      <th>General Entertainment</th>\n      <td>2</td>\n      <td>2</td>\n      <td>2</td>\n      <td>2</td>\n      <td>2</td>\n    </tr>\n    <tr>\n      <th>General Travel</th>\n      <td>2</td>\n      <td>2</td>\n      <td>2</td>\n      <td>2</td>\n      <td>2</td>\n    </tr>\n    <tr>\n      <th>Gift Shop</th>\n      <td>2</td>\n      <td>2</td>\n      <td>2</td>\n      <td>2</td>\n      <td>2</td>\n    </tr>\n    <tr>\n      <th>Golf Course</th>\n      <td>1</td>\n      <td>1</td>\n      <td>1</td>\n      <td>1</td>\n      <td>1</td>\n    </tr>\n    <tr>\n      <th>Gourmet Shop</th>\n      <td>7</td>\n      <td>7</td>\n      <td>7</td>\n      <td>7</td>\n      <td>7</td>\n    </tr>\n    <tr>\n      <th>Grocery Store</th>\n      <td>153</td>\n      <td>153</td>\n      <td>153</td>\n      <td>153</td>\n      <td>153</td>\n    </tr>\n    <tr>\n      <th>Gym</th>\n      <td>2</td>\n      <td>2</td>\n      <td>2</td>\n      <td>2</td>\n      <td>2</td>\n    </tr>\n    <tr>\n      <th>Gym / Fitness Center</th>\n      <td>2</td>\n      <td>2</td>\n      <td>2</td>\n      <td>2</td>\n      <td>2</td>\n    </tr>\n    <tr>\n      <th>Harbor / Marina</th>\n      <td>2</td>\n      <td>2</td>\n      <td>2</td>\n      <td>2</td>\n      <td>2</td>\n    </tr>\n    <tr>\n      <th>Health Food Store</th>\n      <td>534</td>\n      <td>534</td>\n      <td>534</td>\n      <td>534</td>\n      <td>534</td>\n    </tr>\n    <tr>\n      <th>Heliport</th>\n      <td>2</td>\n      <td>2</td>\n      <td>2</td>\n      <td>2</td>\n      <td>2</td>\n    </tr>\n    <tr>\n      <th>Hindu Temple</th>\n      <td>28</td>\n      <td>28</td>\n      <td>28</td>\n      <td>28</td>\n      <td>28</td>\n    </tr>\n    <tr>\n      <th>Historic Site</th>\n      <td>6</td>\n      <td>6</td>\n      <td>6</td>\n      <td>6</td>\n      <td>6</td>\n    </tr>\n    <tr>\n      <th>History Museum</th>\n      <td>2</td>\n      <td>2</td>\n      <td>2</td>\n      <td>2</td>\n      <td>2</td>\n    </tr>\n    <tr>\n      <th>Hotel</th>\n      <td>1</td>\n      <td>1</td>\n      <td>1</td>\n      <td>1</td>\n      <td>1</td>\n    </tr>\n    <tr>\n      <th>Intersection</th>\n      <td>1</td>\n      <td>1</td>\n      <td>1</td>\n      <td>1</td>\n      <td>1</td>\n    </tr>\n    <tr>\n      <th>Island</th>\n      <td>1</td>\n      <td>1</td>\n      <td>1</td>\n      <td>1</td>\n      <td>1</td>\n    </tr>\n    <tr>\n      <th>Juice Bar</th>\n      <td>541</td>\n      <td>541</td>\n      <td>541</td>\n      <td>541</td>\n      <td>541</td>\n    </tr>\n    <tr>\n      <th>Lake</th>\n      <td>17</td>\n      <td>17</td>\n      <td>17</td>\n      <td>17</td>\n      <td>17</td>\n    </tr>\n    <tr>\n      <th>Marijuana Dispensary</th>\n      <td>1</td>\n      <td>1</td>\n      <td>1</td>\n      <td>1</td>\n      <td>1</td>\n    </tr>\n    <tr>\n      <th>Market</th>\n      <td>11</td>\n      <td>11</td>\n      <td>11</td>\n      <td>11</td>\n      <td>11</td>\n    </tr>\n    <tr>\n      <th>Massage Studio</th>\n      <td>1</td>\n      <td>1</td>\n      <td>1</td>\n      <td>1</td>\n      <td>1</td>\n    </tr>\n    <tr>\n      <th>Memorial Site</th>\n      <td>1</td>\n      <td>1</td>\n      <td>1</td>\n      <td>1</td>\n      <td>1</td>\n    </tr>\n    <tr>\n      <th>Mexican Restaurant</th>\n      <td>1</td>\n      <td>1</td>\n      <td>1</td>\n      <td>1</td>\n      <td>1</td>\n    </tr>\n    <tr>\n      <th>Miscellaneous Shop</th>\n      <td>2</td>\n      <td>2</td>\n      <td>2</td>\n      <td>2</td>\n      <td>2</td>\n    </tr>\n    <tr>\n      <th>Monument / Landmark</th>\n      <td>1</td>\n      <td>1</td>\n      <td>1</td>\n      <td>1</td>\n      <td>1</td>\n    </tr>\n    <tr>\n      <th>Mountain</th>\n      <td>163</td>\n      <td>163</td>\n      <td>163</td>\n      <td>163</td>\n      <td>163</td>\n    </tr>\n    <tr>\n      <th>Music Venue</th>\n      <td>1</td>\n      <td>1</td>\n      <td>1</td>\n      <td>1</td>\n      <td>1</td>\n    </tr>\n    <tr>\n      <th>National Park</th>\n      <td>61</td>\n      <td>61</td>\n      <td>61</td>\n      <td>61</td>\n      <td>61</td>\n    </tr>\n    <tr>\n      <th>Nature Preserve</th>\n      <td>215</td>\n      <td>215</td>\n      <td>215</td>\n      <td>215</td>\n      <td>215</td>\n    </tr>\n    <tr>\n      <th>Neighborhood</th>\n      <td>9</td>\n      <td>9</td>\n      <td>9</td>\n      <td>9</td>\n      <td>9</td>\n    </tr>\n    <tr>\n      <th>Nudist Beach</th>\n      <td>1</td>\n      <td>1</td>\n      <td>1</td>\n      <td>1</td>\n      <td>1</td>\n    </tr>\n    <tr>\n      <th>Office</th>\n      <td>3</td>\n      <td>3</td>\n      <td>3</td>\n      <td>3</td>\n      <td>3</td>\n    </tr>\n    <tr>\n      <th>Organic Grocery</th>\n      <td>172</td>\n      <td>172</td>\n      <td>172</td>\n      <td>172</td>\n      <td>172</td>\n    </tr>\n    <tr>\n      <th>Other Great Outdoors</th>\n      <td>34</td>\n      <td>34</td>\n      <td>34</td>\n      <td>34</td>\n      <td>34</td>\n    </tr>\n    <tr>\n      <th>Outdoor Event Space</th>\n      <td>62</td>\n      <td>62</td>\n      <td>62</td>\n      <td>62</td>\n      <td>62</td>\n    </tr>\n    <tr>\n      <th>Park</th>\n      <td>838</td>\n      <td>838</td>\n      <td>838</td>\n      <td>838</td>\n      <td>838</td>\n    </tr>\n    <tr>\n      <th>Pedestrian Plaza</th>\n      <td>1</td>\n      <td>1</td>\n      <td>1</td>\n      <td>1</td>\n      <td>1</td>\n    </tr>\n    <tr>\n      <th>Performing Arts Venue</th>\n      <td>1</td>\n      <td>1</td>\n      <td>1</td>\n      <td>1</td>\n      <td>1</td>\n    </tr>\n    <tr>\n      <th>Pharmacy</th>\n      <td>3</td>\n      <td>3</td>\n      <td>3</td>\n      <td>3</td>\n      <td>3</td>\n    </tr>\n    <tr>\n      <th>Playground</th>\n      <td>19</td>\n      <td>19</td>\n      <td>19</td>\n      <td>19</td>\n      <td>19</td>\n    </tr>\n    <tr>\n      <th>Plaza</th>\n      <td>13</td>\n      <td>13</td>\n      <td>13</td>\n      <td>13</td>\n      <td>13</td>\n    </tr>\n    <tr>\n      <th>Pool</th>\n      <td>2</td>\n      <td>2</td>\n      <td>2</td>\n      <td>2</td>\n      <td>2</td>\n    </tr>\n    <tr>\n      <th>Restaurant</th>\n      <td>5</td>\n      <td>5</td>\n      <td>5</td>\n      <td>5</td>\n      <td>5</td>\n    </tr>\n    <tr>\n      <th>River</th>\n      <td>2</td>\n      <td>2</td>\n      <td>2</td>\n      <td>2</td>\n      <td>2</td>\n    </tr>\n    <tr>\n      <th>Road</th>\n      <td>2</td>\n      <td>2</td>\n      <td>2</td>\n      <td>2</td>\n      <td>2</td>\n    </tr>\n    <tr>\n      <th>Rock Climbing Spot</th>\n      <td>1</td>\n      <td>1</td>\n      <td>1</td>\n      <td>1</td>\n      <td>1</td>\n    </tr>\n    <tr>\n      <th>Sandwich Place</th>\n      <td>2</td>\n      <td>2</td>\n      <td>2</td>\n      <td>2</td>\n      <td>2</td>\n    </tr>\n    <tr>\n      <th>Scenic Lookout</th>\n      <td>24</td>\n      <td>24</td>\n      <td>24</td>\n      <td>24</td>\n      <td>24</td>\n    </tr>\n    <tr>\n      <th>Science Museum</th>\n      <td>1</td>\n      <td>1</td>\n      <td>1</td>\n      <td>1</td>\n      <td>1</td>\n    </tr>\n    <tr>\n      <th>Sculpture Garden</th>\n      <td>1</td>\n      <td>1</td>\n      <td>1</td>\n      <td>1</td>\n      <td>1</td>\n    </tr>\n    <tr>\n      <th>Shopping Mall</th>\n      <td>10</td>\n      <td>10</td>\n      <td>10</td>\n      <td>10</td>\n      <td>10</td>\n    </tr>\n    <tr>\n      <th>Skate Park</th>\n      <td>1</td>\n      <td>1</td>\n      <td>1</td>\n      <td>1</td>\n      <td>1</td>\n    </tr>\n    <tr>\n      <th>Ski Area</th>\n      <td>14</td>\n      <td>14</td>\n      <td>14</td>\n      <td>14</td>\n      <td>14</td>\n    </tr>\n    <tr>\n      <th>Smoothie Shop</th>\n      <td>8</td>\n      <td>8</td>\n      <td>8</td>\n      <td>8</td>\n      <td>8</td>\n    </tr>\n    <tr>\n      <th>Soccer Field</th>\n      <td>1</td>\n      <td>1</td>\n      <td>1</td>\n      <td>1</td>\n      <td>1</td>\n    </tr>\n    <tr>\n      <th>Sporting Goods Shop</th>\n      <td>1</td>\n      <td>1</td>\n      <td>1</td>\n      <td>1</td>\n      <td>1</td>\n    </tr>\n    <tr>\n      <th>Stables</th>\n      <td>1</td>\n      <td>1</td>\n      <td>1</td>\n      <td>1</td>\n      <td>1</td>\n    </tr>\n    <tr>\n      <th>State / Provincial Park</th>\n      <td>44</td>\n      <td>44</td>\n      <td>44</td>\n      <td>44</td>\n      <td>44</td>\n    </tr>\n    <tr>\n      <th>Steakhouse</th>\n      <td>1</td>\n      <td>1</td>\n      <td>1</td>\n      <td>1</td>\n      <td>1</td>\n    </tr>\n    <tr>\n      <th>Supermarket</th>\n      <td>10</td>\n      <td>10</td>\n      <td>10</td>\n      <td>10</td>\n      <td>10</td>\n    </tr>\n    <tr>\n      <th>Supplement Shop</th>\n      <td>4</td>\n      <td>4</td>\n      <td>4</td>\n      <td>4</td>\n      <td>4</td>\n    </tr>\n    <tr>\n      <th>Tech Startup</th>\n      <td>593</td>\n      <td>593</td>\n      <td>593</td>\n      <td>593</td>\n      <td>593</td>\n    </tr>\n    <tr>\n      <th>Temple</th>\n      <td>6</td>\n      <td>6</td>\n      <td>6</td>\n      <td>6</td>\n      <td>6</td>\n    </tr>\n    <tr>\n      <th>Thai Restaurant</th>\n      <td>1</td>\n      <td>1</td>\n      <td>1</td>\n      <td>1</td>\n      <td>1</td>\n    </tr>\n    <tr>\n      <th>Theme Park</th>\n      <td>1</td>\n      <td>1</td>\n      <td>1</td>\n      <td>1</td>\n      <td>1</td>\n    </tr>\n    <tr>\n      <th>Tourist Information Center</th>\n      <td>1</td>\n      <td>1</td>\n      <td>1</td>\n      <td>1</td>\n      <td>1</td>\n    </tr>\n    <tr>\n      <th>Track</th>\n      <td>3</td>\n      <td>3</td>\n      <td>3</td>\n      <td>3</td>\n      <td>3</td>\n    </tr>\n    <tr>\n      <th>Trade School</th>\n      <td>1</td>\n      <td>1</td>\n      <td>1</td>\n      <td>1</td>\n      <td>1</td>\n    </tr>\n    <tr>\n      <th>Trail</th>\n      <td>537</td>\n      <td>537</td>\n      <td>537</td>\n      <td>537</td>\n      <td>537</td>\n    </tr>\n    <tr>\n      <th>Train Station</th>\n      <td>1</td>\n      <td>1</td>\n      <td>1</td>\n      <td>1</td>\n      <td>1</td>\n    </tr>\n    <tr>\n      <th>Tree</th>\n      <td>1</td>\n      <td>1</td>\n      <td>1</td>\n      <td>1</td>\n      <td>1</td>\n    </tr>\n    <tr>\n      <th>Vegetarian / Vegan Restaurant</th>\n      <td>3</td>\n      <td>3</td>\n      <td>3</td>\n      <td>3</td>\n      <td>3</td>\n    </tr>\n    <tr>\n      <th>Warehouse Store</th>\n      <td>1</td>\n      <td>1</td>\n      <td>1</td>\n      <td>1</td>\n      <td>1</td>\n    </tr>\n    <tr>\n      <th>Waterfall</th>\n      <td>6</td>\n      <td>6</td>\n      <td>6</td>\n      <td>6</td>\n      <td>6</td>\n    </tr>\n    <tr>\n      <th>Wedding Hall</th>\n      <td>2</td>\n      <td>2</td>\n      <td>2</td>\n      <td>2</td>\n      <td>2</td>\n    </tr>\n    <tr>\n      <th>Wine Bar</th>\n      <td>1</td>\n      <td>1</td>\n      <td>1</td>\n      <td>1</td>\n      <td>1</td>\n    </tr>\n    <tr>\n      <th>Zoo</th>\n      <td>1</td>\n      <td>1</td>\n      <td>1</td>\n      <td>1</td>\n      <td>1</td>\n    </tr>\n  </tbody>\n</table>\n</div>", 
                        "text/plain": "                               City  CategoryID  Venue  Latitude  Longitude\nType                                                                       \nAmerican Restaurant               3           3      3         3          3\nAmphitheater                      3           3      3         3          3\nAthletics & Sports                2           2      2         2          2\nBakery                            7           7      7         7          7\nBar                               1           1      1         1          1\nBeach                             8           8      8         8          8\nBig Box Store                     1           1      1         1          1\nBike Rental / Bike Share          2           2      2         2          2\nBike Shop                         5           5      5         5          5\nBike Trail                       95          95     95        95         95\nBotanical Garden                 73          73     73        73         73\nBreakfast Spot                    4           4      4         4          4\nBridge                            5           5      5         5          5\nBuddhist Temple                 100         100    100       100        100\nBuilding                          2           2      2         2          2\nBusiness Service                  2           2      2         2          2\nCaf\u00e9                              6           6      6         6          6\nCajun / Creole Restaurant         1           1      1         1          1\nCampground                       10          10     10        10         10\nCandy Store                       1           1      1         1          1\nChurch                            1           1      1         1          1\nCity                             14          14     14        14         14\nCoffee Shop                       5           5      5         5          5\nCollege Quad                      1           1      1         1          1\nConstruction & Landscaping        1           1      1         1          1\nConvenience Store                 1           1      1         1          1\nCoworking Space                   2           2      2         2          2\nDeli / Bodega                     1           1      1         1          1\nDesign Studio                     1           1      1         1          1\nDiscount Store                    1           1      1         1          1\nDog Run                          20          20     20        20         20\nEvent Space                       3           3      3         3          3\nFarm                              7           7      7         7          7\nFarmers Market                  460         460    460       460        460\nField                             4           4      4         4          4\nFlea Market                       2           2      2         2          2\nFood & Drink Shop                 4           4      4         4          4\nFood Truck                        6           6      6         6          6\nForest                           82          82     82        82         82\nFruit & Vegetable Store         181         181    181       181        181\nGarden                           20          20     20        20         20\nGarden Center                     1           1      1         1          1\nGas Station                       1           1      1         1          1\nGeneral Entertainment             2           2      2         2          2\nGeneral Travel                    2           2      2         2          2\nGift Shop                         2           2      2         2          2\nGolf Course                       1           1      1         1          1\nGourmet Shop                      7           7      7         7          7\nGrocery Store                   153         153    153       153        153\nGym                               2           2      2         2          2\nGym / Fitness Center              2           2      2         2          2\nHarbor / Marina                   2           2      2         2          2\nHealth Food Store               534         534    534       534        534\nHeliport                          2           2      2         2          2\nHindu Temple                     28          28     28        28         28\nHistoric Site                     6           6      6         6          6\nHistory Museum                    2           2      2         2          2\nHotel                             1           1      1         1          1\nIntersection                      1           1      1         1          1\nIsland                            1           1      1         1          1\nJuice Bar                       541         541    541       541        541\nLake                             17          17     17        17         17\nMarijuana Dispensary              1           1      1         1          1\nMarket                           11          11     11        11         11\nMassage Studio                    1           1      1         1          1\nMemorial Site                     1           1      1         1          1\nMexican Restaurant                1           1      1         1          1\nMiscellaneous Shop                2           2      2         2          2\nMonument / Landmark               1           1      1         1          1\nMountain                        163         163    163       163        163\nMusic Venue                       1           1      1         1          1\nNational Park                    61          61     61        61         61\nNature Preserve                 215         215    215       215        215\nNeighborhood                      9           9      9         9          9\nNudist Beach                      1           1      1         1          1\nOffice                            3           3      3         3          3\nOrganic Grocery                 172         172    172       172        172\nOther Great Outdoors             34          34     34        34         34\nOutdoor Event Space              62          62     62        62         62\nPark                            838         838    838       838        838\nPedestrian Plaza                  1           1      1         1          1\nPerforming Arts Venue             1           1      1         1          1\nPharmacy                          3           3      3         3          3\nPlayground                       19          19     19        19         19\nPlaza                            13          13     13        13         13\nPool                              2           2      2         2          2\nRestaurant                        5           5      5         5          5\nRiver                             2           2      2         2          2\nRoad                              2           2      2         2          2\nRock Climbing Spot                1           1      1         1          1\nSandwich Place                    2           2      2         2          2\nScenic Lookout                   24          24     24        24         24\nScience Museum                    1           1      1         1          1\nSculpture Garden                  1           1      1         1          1\nShopping Mall                    10          10     10        10         10\nSkate Park                        1           1      1         1          1\nSki Area                         14          14     14        14         14\nSmoothie Shop                     8           8      8         8          8\nSoccer Field                      1           1      1         1          1\nSporting Goods Shop               1           1      1         1          1\nStables                           1           1      1         1          1\nState / Provincial Park          44          44     44        44         44\nSteakhouse                        1           1      1         1          1\nSupermarket                      10          10     10        10         10\nSupplement Shop                   4           4      4         4          4\nTech Startup                    593         593    593       593        593\nTemple                            6           6      6         6          6\nThai Restaurant                   1           1      1         1          1\nTheme Park                        1           1      1         1          1\nTourist Information Center        1           1      1         1          1\nTrack                             3           3      3         3          3\nTrade School                      1           1      1         1          1\nTrail                           537         537    537       537        537\nTrain Station                     1           1      1         1          1\nTree                              1           1      1         1          1\nVegetarian / Vegan Restaurant     3           3      3         3          3\nWarehouse Store                   1           1      1         1          1\nWaterfall                         6           6      6         6          6\nWedding Hall                      2           2      2         2          2\nWine Bar                          1           1      1         1          1\nZoo                               1           1      1         1          1"
                    }, 
                    "execution_count": 148, 
                    "metadata": {}
                }
            ], 
            "execution_count": 148
        }, 
        {
            "source": "We see here that some venues seem less significant than others, so we are going to filter out the least common types \nand create a list of the relevant types.", 
            "cell_type": "markdown", 
            "metadata": {}
        }, 
        {
            "source": "# delete types that don't meet a certain thresh\n\nrelevant_venues_df = total_venues[total_venues['City'] > 1]\nrelevant_venues_df = relevant_venues_df.reset_index()\n", 
            "cell_type": "code", 
            "metadata": {}, 
            "outputs": [], 
            "execution_count": 163
        }, 
        {
            "source": "# create a list of relevant venues", 
            "cell_type": "code", 
            "metadata": {}, 
            "outputs": [], 
            "execution_count": 157
        }, 
        {
            "source": "relevant_types = relevant_venues_df['Type'].tolist()\nrelevant_types\n", 
            "cell_type": "code", 
            "metadata": {
                "scrolled": true
            }, 
            "outputs": [
                {
                    "output_type": "execute_result", 
                    "data": {
                        "text/plain": "['American Restaurant',\n 'Amphitheater',\n 'Athletics & Sports',\n 'Bakery',\n 'Beach',\n 'Bike Rental / Bike Share',\n 'Bike Shop',\n 'Bike Trail',\n 'Botanical Garden',\n 'Breakfast Spot',\n 'Bridge',\n 'Buddhist Temple',\n 'Building',\n 'Business Service',\n 'Caf\u00e9',\n 'Campground',\n 'City',\n 'Coffee Shop',\n 'Coworking Space',\n 'Dog Run',\n 'Event Space',\n 'Farm',\n 'Farmers Market',\n 'Field',\n 'Flea Market',\n 'Food & Drink Shop',\n 'Food Truck',\n 'Forest',\n 'Fruit & Vegetable Store',\n 'Garden',\n 'General Entertainment',\n 'General Travel',\n 'Gift Shop',\n 'Gourmet Shop',\n 'Grocery Store',\n 'Gym',\n 'Gym / Fitness Center',\n 'Harbor / Marina',\n 'Health Food Store',\n 'Heliport',\n 'Hindu Temple',\n 'Historic Site',\n 'History Museum',\n 'Juice Bar',\n 'Lake',\n 'Market',\n 'Miscellaneous Shop',\n 'Mountain',\n 'National Park',\n 'Nature Preserve',\n 'Neighborhood',\n 'Office',\n 'Organic Grocery',\n 'Other Great Outdoors',\n 'Outdoor Event Space',\n 'Park',\n 'Pharmacy',\n 'Playground',\n 'Plaza',\n 'Pool',\n 'Restaurant',\n 'River',\n 'Road',\n 'Sandwich Place',\n 'Scenic Lookout',\n 'Shopping Mall',\n 'Ski Area',\n 'Smoothie Shop',\n 'State / Provincial Park',\n 'Supermarket',\n 'Supplement Shop',\n 'Tech Startup',\n 'Temple',\n 'Track',\n 'Trail',\n 'Vegetarian / Vegan Restaurant',\n 'Waterfall',\n 'Wedding Hall']"
                    }, 
                    "execution_count": 165, 
                    "metadata": {}
                }
            ], 
            "execution_count": 165
        }, 
        {
            "source": "#### Create final filtered dataframe", 
            "cell_type": "markdown", 
            "metadata": {}
        }, 
        {
            "source": "#Filter out irrelevant types from dataset\n# Create now the final dataframe where the irrelevant types are \ndf = venues_df\ndf = df.loc[df['Type'].isin(relevant_types)]\ndf.shape", 
            "cell_type": "code", 
            "metadata": {}, 
            "outputs": [
                {
                    "output_type": "execute_result", 
                    "data": {
                        "text/plain": "(5321, 6)"
                    }, 
                    "execution_count": 168, 
                    "metadata": {}
                }
            ], 
            "execution_count": 168
        }, 
        {
            "source": "df.head()", 
            "cell_type": "code", 
            "metadata": {
                "scrolled": false
            }, 
            "outputs": [
                {
                    "output_type": "execute_result", 
                    "data": {
                        "text/html": "<div>\n<style scoped>\n    .dataframe tbody tr th:only-of-type {\n        vertical-align: middle;\n    }\n\n    .dataframe tbody tr th {\n        vertical-align: top;\n    }\n\n    .dataframe thead th {\n        text-align: right;\n    }\n</style>\n<table border=\"1\" class=\"dataframe\">\n  <thead>\n    <tr style=\"text-align: right;\">\n      <th></th>\n      <th>City</th>\n      <th>CategoryID</th>\n      <th>Venue</th>\n      <th>Latitude</th>\n      <th>Longitude</th>\n      <th>Type</th>\n    </tr>\n  </thead>\n  <tbody>\n    <tr>\n      <th>0</th>\n      <td>Houston, TX</td>\n      <td>4bf58dd8d48988d159941735</td>\n      <td>Buffalo Bayou Walk</td>\n      <td>29.762177</td>\n      <td>-95.375844</td>\n      <td>Trail</td>\n    </tr>\n    <tr>\n      <th>1</th>\n      <td>Houston, TX</td>\n      <td>4bf58dd8d48988d159941735</td>\n      <td>Buffalo Bayou Park</td>\n      <td>29.762068</td>\n      <td>-95.391626</td>\n      <td>Park</td>\n    </tr>\n    <tr>\n      <th>2</th>\n      <td>Houston, TX</td>\n      <td>4bf58dd8d48988d159941735</td>\n      <td>Houston Arboretum &amp; Nature Center</td>\n      <td>29.765361</td>\n      <td>-95.452177</td>\n      <td>Botanical Garden</td>\n    </tr>\n    <tr>\n      <th>3</th>\n      <td>Houston, TX</td>\n      <td>4bf58dd8d48988d159941735</td>\n      <td>Herman Park Trails</td>\n      <td>29.719804</td>\n      <td>-95.388748</td>\n      <td>Trail</td>\n    </tr>\n    <tr>\n      <th>4</th>\n      <td>Houston, TX</td>\n      <td>4bf58dd8d48988d159941735</td>\n      <td>Terry Hershey Park</td>\n      <td>29.779138</td>\n      <td>-95.623096</td>\n      <td>Park</td>\n    </tr>\n  </tbody>\n</table>\n</div>", 
                        "text/plain": "          City                CategoryID                              Venue  \\\n0  Houston, TX  4bf58dd8d48988d159941735                 Buffalo Bayou Walk   \n1  Houston, TX  4bf58dd8d48988d159941735                 Buffalo Bayou Park   \n2  Houston, TX  4bf58dd8d48988d159941735  Houston Arboretum & Nature Center   \n3  Houston, TX  4bf58dd8d48988d159941735                 Herman Park Trails   \n4  Houston, TX  4bf58dd8d48988d159941735                 Terry Hershey Park   \n\n    Latitude  Longitude              Type  \n0  29.762177 -95.375844             Trail  \n1  29.762068 -95.391626              Park  \n2  29.765361 -95.452177  Botanical Garden  \n3  29.719804 -95.388748             Trail  \n4  29.779138 -95.623096              Park  "
                    }, 
                    "execution_count": 169, 
                    "metadata": {}
                }
            ], 
            "execution_count": 169
        }, 
        {
            "source": "### 6. Plot Data", 
            "cell_type": "markdown", 
            "metadata": {}
        }, 
        {
            "source": "Prepare the data for plotting.\nCreate various slices of the data for input in a horizontal bar chart.", 
            "cell_type": "markdown", 
            "metadata": {}
        }, 
        {
            "source": "# Create dataframes for each venue category\n\noutdoors_df = df.loc[df['CategoryID'].isin(outdoors_venues_ID)]\nstartups_df = df.loc[df['CategoryID'].isin(professional_venues_ID)]\ncultural_df = df.loc[df['CategoryID'].isin(cultural_venues_ID)]\nfood_df = df.loc[df['CategoryID'].isin(food_venues_ID)]\nbeauty_df = df.loc[df['CategoryID'].isin(beauty_venues_ID)]", 
            "cell_type": "code", 
            "metadata": {}, 
            "outputs": [], 
            "execution_count": 171
        }, 
        {
            "source": "# Count the numbers of venues in each category.\noutdoors_count = pd.DataFrame(outdoors_df.groupby('City').count()['Venue'])\nstartups_count = pd.DataFrame(startups_df.groupby('City').count()['Venue'])\ncultural_count = pd.DataFrame(cultural_df.groupby('City').count()['Venue'])\nfood_count = pd.DataFrame(food_df.groupby('City').count()['Venue'])\nbeauty_count = pd.DataFrame(beauty_df.groupby('City').count()['Venue'])", 
            "cell_type": "code", 
            "metadata": {}, 
            "outputs": [], 
            "execution_count": 173
        }, 
        {
            "source": "# Create a function to count how many of each category are present per city\n\ndef makeList(cities, count_df):\n    N = len(cities)\n    count_list = []\n    for index in range(0,N):\n        city_total = count_df.iloc[index][0]\n        count_list.append(city_total)\n    return count_list", 
            "cell_type": "code", 
            "metadata": {}, 
            "outputs": [], 
            "execution_count": 174
        }, 
        {
            "source": "# Apply the function to create lists of total venues per category\noutdoors_count_list = makeList(cities, outdoors_count)\nstartups_count_list = makeList(cities, startups_count)\ncultural_count_list = makeList(cities, cultural_count)\nfood_count_list = makeList(cities, food_count)\nbeauty_count_list = makeList(cities, beauty_count)\n", 
            "cell_type": "code", 
            "metadata": {
                "scrolled": true
            }, 
            "outputs": [], 
            "execution_count": 178
        }, 
        {
            "source": "", 
            "cell_type": "code", 
            "metadata": {}, 
            "outputs": [], 
            "execution_count": null
        }, 
        {
            "source": "import plotly.plotly as py\nimport plotly.graph_objs as go\n\ntrace1 = go.Bar(\n    y= cities,\n    x= outdoors_count_list,\n    name='Outdoors',\n    orientation = 'h',\n    marker = dict(\n        color = 'rgba(73,124,81,0.8)',\n    )\n)\ntrace2 = go.Bar(\n    y= cities,\n    x= startups_count_list,\n    name='Startups',\n    orientation = 'h',\n    marker = dict(\n        color = 'rgba(81,73,124,0.8)'\n   )\n)\ntrace3 = go.Bar(\n    y= cities,\n    x= cultural_count_list,\n    name='Cultural',\n    orientation = 'h',\n    marker = dict(\n        color = 'rgba(124,73,116,0.8)',\n   )\n)\ntrace4 = go.Bar(\n    y= cities,\n    x= food_count_list,\n    name='Food',\n    orientation = 'h',\n    marker = dict(\n        color = 'rgba(139,115,95,0.8)',\n    )\n)\ntrace5 = go.Bar(\n    y= cities,\n    x= beauty_count_list,\n    name='Beauty',\n    orientation = 'h',\n    marker = dict(\n        color = 'rgba(95,119,139,0.8)',\n    )\n)\n\ndata = [trace1, trace2, trace3, trace4, trace5]\nlayout = go.Layout(\n    barmode='stack'\n)\n\nfig = go.Figure(data=data, layout=layout)\npy.iplot(fig, filename='marker-h-bar')", 
            "cell_type": "code", 
            "metadata": {
                "scrolled": true
            }, 
            "outputs": [
                {
                    "output_type": "execute_result", 
                    "data": {
                        "text/html": "<iframe id=\"igraph\" scrolling=\"no\" style=\"border:none;\" seamless=\"seamless\" src=\"https://plot.ly/~tinaprisma/2.embed\" height=\"525px\" width=\"100%\"></iframe>", 
                        "text/plain": "<plotly.tools.PlotlyDisplay object>"
                    }, 
                    "execution_count": 177, 
                    "metadata": {}
                }
            ], 
            "execution_count": 177
        }, 
        {
            "source": "We observe that there are more startups than the limit imposed by Foursquare. WE could add more points inside the city, or we can rely on data points that are more predicitive.\nAccording to this analysis, Houston and Denver look very similar, but we know this is not the case.", 
            "cell_type": "markdown", 
            "metadata": {}
        }, 
        {
            "source": "cities", 
            "cell_type": "code", 
            "metadata": {}, 
            "outputs": [
                {
                    "output_type": "execute_result", 
                    "data": {
                        "text/plain": "['Houston, TX',\n 'Austin, TX',\n 'Denver, CO',\n 'Seattle, WA',\n 'San Francisco, CA',\n 'Portland, OR']"
                    }, 
                    "execution_count": 179, 
                    "metadata": {}
                }
            ], 
            "execution_count": 179
        }, 
        {
            "source": "### Source 2: Weather Data", 
            "cell_type": "markdown", 
            "metadata": {}
        }, 
        {
            "source": "city_codes = ['USW00012918','USW00013958','USW00093037','USW00024233','USW00023234','USW00024229']\n\ntemp_measure = ['tmin', 'tavg', 'tmax']\n\ntemperatures = pd.DataFrame()\n\ntemperatures_df.columns = ['City','Feb Min','Feb Avg','Feb Max', 'Aug Min', 'Aug Avg', 'Aug Max']\n\n", 
            "cell_type": "code", 
            "metadata": {}, 
            "outputs": [
                {
                    "output_type": "error", 
                    "evalue": "expected an indented block (<ipython-input-211-03a4d9cfe62e>, line 20)", 
                    "traceback": [
                        "\u001b[0;36m  File \u001b[0;32m\"<ipython-input-211-03a4d9cfe62e>\"\u001b[0;36m, line \u001b[0;32m20\u001b[0m\n\u001b[0;31m    '''     = pd.read_csv(url)\u001b[0m\n\u001b[0m                              ^\u001b[0m\n\u001b[0;31mIndentationError\u001b[0m\u001b[0;31m:\u001b[0m expected an indented block\n"
                    ], 
                    "ename": "IndentationError"
                }
            ], 
            "execution_count": 211
        }, 
        {
            "source": "def extractTemps(city_codes, temp_measures):\n    \n    aug_temps_city_list=[]\n    feb_temps_city_list=[]\n    \n    for c in range(0,len(city_codes)):\n        aug_url_list = []\n        feb_url_list = []\n        for t in range(0,len(temp_measures)):\n            aug_url = 'https://www.ncdc.noaa.gov/cag/city/time-series/' + city_codes[c] + '-' + temp_measures[t] + '-1-8-2000-2019.csv' #scrape august data\n            feb_url = 'https://www.ncdc.noaa.gov/cag/city/time-series/' + city_codes[c] + '-' + temp_measures[t] + '-1-2-2000-2019.csv' #scrape december data\n            aug_url_list.append(aug_url)\n            feb_url_list.append(feb_url)\n        aug_temps_city_list.append(aug_url_list)\n        feb_temps_city_list.append(feb_url_list)\n        \n    \n    \n        '''if index == 0:\n                aug_temps_df.iloc[code][index] = pd.read_csv(aug_url)\n            \n            feb_temps_df\n            \n     = pd.read_csv(url)\nhou_temps_df = hou_temps_df.drop([0,1,2])\nhou_temps_df = hou_temps_df.reset_index()\nhou_temps_df = hou_temps_df.drop(columns=[' August', ' Maximum Temperature', 'index'])\nhou_temps_df'''", 
            "cell_type": "code", 
            "metadata": {}, 
            "outputs": [], 
            "execution_count": 214
        }, 
        {
            "source": "We need to find weather data on the cities of interest. This would include temperature data & precipitation.\n\nHouston Code: USW00012918\n\nMAX Temperature Houston 2000 - 2019 August\n\n\nMIN Temperature Houston 2000 - 2019 August\n\nhttps://www.ncdc.noaa.gov/cag/city/time-series/USW00012918-tmin-1-8-2000-2019.csv\n\nAVG Temperature Houston 2000 - 2019 August\n\nhttps://www.ncdc.noaa.gov/cag/city/time-series/USW00012918-tavg-1-8-2000-2019.csv\n\nMAX Temperature Houston 2000 - 2019 Feb\nhttps://www.ncdc.noaa.gov/cag/city/time-series/USW00012918-tmax-1-2-2000-2019.csv\nMIN Temperature Houston 2000 - 2019 August Feb\nhttps://www.ncdc.noaa.gov/cag/city/time-series/USW00012918-tmin-1-2-2000-2019.csv\nAVG Temperature Houston 2000 - 2019 Feb\nhttps://www.ncdc.noaa.gov/cag/city/time-series/USW00012918-tavg-1-2-2000-2019.csv\n\nAnnual Precipitation Houston 2000 - 2019 \nhttps://www.ncdc.noaa.gov/cag/city/time-series/USW00012918-pcp-12-12-2000-2019.csv\n\nAUSTIN DATA\nAustin Code: USW00013958\n\nDENVER DATA\nDenver Code: USW00093037\n\nPORTLAND DATA\nPortland Code: USW00024229\n\nSAN FRANCISCO DATA\nSan Frnacisco Code: ,\n\nSEATTLLE\nSeattle Code: USW00024233", 
            "cell_type": "markdown", 
            "metadata": {}
        }, 
        {
            "source": "\nfrom plotly.graph_objs import *\n\ntrace1 = {\n  \"x\": [1, 2, 3, 4, 5, 6, 7, 8, 9, 10, 10, 9, 8, 7, 6, 5, 4, 3, 2, 1], \n  \"y\": [2, 3, 4, 5, 6, 7, 8, 9, 10, 11, 9, 8, 7, 6, 5, 4, 3, 2, 1, 0], \n  \"fill\": \"tozerox\", \n  \"fillcolor\": \"rgba(0,100,80,0.2)\", \n  \"line\": {\"color\": \"transparent\"}, \n  \"name\": \"Fair\", \n  \"showlegend\": False, \n  \"type\": \"scatter\"\n}\ntrace2 = {\n  \"x\": [1, 2, 3, 4, 5, 6, 7, 8, 9, 10, 10, 9, 8, 7, 6, 5, 4, 3, 2, 1], \n  \"y\": [5.5, 3, 5.5, 8, 6, 3, 8, 5, 6, 5.5, 4.75, 5, 4, 7, 2, 4, 7, 4.4, 2, 4.5], \n  \"fill\": \"tozerox\", \n  \"fillcolor\": \"rgba(0,176,246,0.2)\", \n  \"line\": {\"color\": \"transparent\"}, \n  \"name\": \"Premium\", \n  \"showlegend\": False, \n  \"type\": \"scatter\"\n}\ntrace3 = {\n  \"x\": [1, 2, 3, 4, 5, 6, 7, 8, 9, 10, 10, 9, 8, 7, 6, 5, 4, 3, 2, 1], \n  \"y\": [11, 9, 7, 5, 3, 1, 3, 5, 3, 1, -1, 1, 3, 1, -0.5, 1, 3, 5, 7, 9], \n  \"fill\": \"tozerox\", \n  \"fillcolor\": \"rgba(231,107,243,0.2)\", \n  \"line\": {\"color\": \"transparent\"}, \n  \"name\": \"Fair\", \n  \"showlegend\": False, \n  \"type\": \"scatter\"\n}\ntrace4 = {\n  \"x\": [1, 2, 3, 4, 5, 6, 7, 8, 9, 10], \n  \"y\": [1, 2, 3, 4, 5, 6, 7, 8, 9, 10], \n  \"line\": {\"color\": \"rgb(0,100,80)\"}, \n  \"mode\": \"lines\", \n  \"name\": \"Fair\", \n  \"type\": \"scatter\"\n}\ntrace5 = {\n  \"x\": [1, 2, 3, 4, 5, 6, 7, 8, 9, 10], \n  \"y\": [5, 2.5, 5, 7.5, 5, 2.5, 7.5, 4.5, 5.5, 5], \n  \"line\": {\"color\": \"rgb(0,176,246)\"}, \n  \"mode\": \"lines\", \n  \"name\": \"Premium\", \n  \"type\": \"scatter\"\n}\ntrace6 = {\n  \"x\": [1, 2, 3, 4, 5, 6, 7, 8, 9, 10], \n  \"y\": [10, 8, 6, 4, 2, 0, 2, 4, 2, 0], \n  \"line\": {\"color\": \"rgb(231,107,243)\"}, \n  \"mode\": \"lines\", \n  \"name\": \"Ideal\", \n  \"type\": \"scatter\"\n}\ndata = Data([trace1, trace2, trace3, trace4, trace5, trace6])\nlayout = {\n  \"paper_bgcolor\": \"rgb(255,255,255)\", \n  \"plot_bgcolor\": \"rgb(229,229,229)\", \n  \"xaxis\": {\n    \"gridcolor\": \"rgb(255,255,255)\", \n    \"range\": [1, 10], \n    \"showgrid\": True, \n    \"showline\": False, \n    \"showticklabels\": True, \n    \"tickcolor\": \"rgb(127,127,127)\", \n    \"ticks\": \"outside\", \n    \"zeroline\": False\n  }, \n  \"yaxis\": {\n    \"gridcolor\": \"rgb(255,255,255)\", \n    \"showgrid\": True, \n    \"showline\": False, \n    \"showticklabels\": True, \n    \"tickcolor\": \"rgb(127,127,127)\", \n    \"ticks\": \"outside\", \n    \"zeroline\": False\n  }\n}\nfig = Figure(data=data, layout=layout)\nplot_url = py.plot(fig)", 
            "cell_type": "code", 
            "metadata": {}, 
            "outputs": [], 
            "execution_count": null
        }, 
        {
            "source": "## Source 3: Pollen and Mold Data", 
            "cell_type": "markdown", 
            "metadata": {}
        }, 
        {
            "source": "We need to find weather data on the cities of interest. This would include temperature data, precipitation, humidity index, pollen count, mold spore count.\n\n\nHOUSTON DATA - Station 188\nhttp://pollen.aaaai.org/nab/index.cfm?p=AllergenCalendar&stationid=188&qsFullDate=10/1/2018\n\nAUSTIN DATA - Station 111 \n\nDENVER DATA - Station 196\n\nSAN JOSE DATA - Station 108\n\nSEATTLE DATA - Station 3\n\nPORTLAND DATA - Station 1\n\n\nMold Spore Count Houston\nhttp://www.houstontx.gov/health/Pollen-Mold/mold-archives.html\n\nWhat the Numbers Mean\nhttp://www.houstontx.gov/health/Pollen-Mold/numbers.html\n\n\n", 
            "cell_type": "markdown", 
            "metadata": {}
        }, 
        {
            "source": "###          Other Sources and Statistics to Consider:", 
            "cell_type": "markdown", 
            "metadata": {}
        }, 
        {
            "source": "I will have to think more deeply about where to find reliable data regarding these statistics and how to integrate them into my analysis: Healthiest US Cities, Best standard of living, cost of living, demographics.\n\nThis website contains open government data.\nhttps://cities.data.gov/", 
            "cell_type": "markdown", 
            "metadata": {}
        }, 
        {
            "source": "## Methodology", 
            "cell_type": "markdown", 
            "metadata": {}
        }, 
        {
            "source": "Will use one hot encoding and a grading algorithm to find out the best city for me to live in.", 
            "cell_type": "markdown", 
            "metadata": {}
        }, 
        {
            "source": "## Results", 
            "cell_type": "markdown", 
            "metadata": {}
        }, 
        {
            "source": "## Discussion ", 
            "cell_type": "markdown", 
            "metadata": {}
        }, 
        {
            "source": "## Conclusion", 
            "cell_type": "markdown", 
            "metadata": {}
        }, 
        {
            "source": "", 
            "cell_type": "code", 
            "metadata": {}, 
            "outputs": [], 
            "execution_count": null
        }
    ], 
    "metadata": {
        "kernelspec": {
            "display_name": "Python 3.5", 
            "name": "python3", 
            "language": "python"
        }, 
        "language_info": {
            "mimetype": "text/x-python", 
            "nbconvert_exporter": "python", 
            "version": "3.5.5", 
            "name": "python", 
            "pygments_lexer": "ipython3", 
            "file_extension": ".py", 
            "codemirror_mode": {
                "version": 3, 
                "name": "ipython"
            }
        }
    }, 
    "nbformat": 4
}