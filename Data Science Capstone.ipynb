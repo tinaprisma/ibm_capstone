{
    "nbformat_minor": 1, 
    "cells": [
        {
            "source": "<img\nsrc='https://static1.squarespace.com/static/5856f62ed1758e23c117f905/t/5c95a9fdf9619a337b7776e9/1553312289653/data-science-spring-texas.png?format=1000w' align='left'> ", 
            "cell_type": "markdown", 
            "metadata": {
                "collapsed": true
            }
        }, 
        {
            "source": "# IBM Capstone Project by Valentina Fontiveros", 
            "cell_type": "markdown", 
            "metadata": {}
        }, 
        {
            "source": "On this Jupyter Notebook, I will document my progress on the IBM Data Science Capstone Project.", 
            "cell_type": "markdown", 
            "metadata": {}
        }, 
        {
            "source": "# First, let's import some basic libraries\n\nimport pandas as pd\nimport numpy as np\n\n# Now, let's print a silly message in order to follow the rules of this assignment.\n\nprint('Hello, Capstone Project Course!')", 
            "cell_type": "code", 
            "metadata": {}, 
            "outputs": [
                {
                    "output_type": "stream", 
                    "name": "stdout", 
                    "text": "Hello, Capstone Project Course!\n"
                }
            ], 
            "execution_count": 1
        }
    ], 
    "metadata": {
        "kernelspec": {
            "display_name": "Python 3.5", 
            "name": "python3", 
            "language": "python"
        }, 
        "language_info": {
            "mimetype": "text/x-python", 
            "nbconvert_exporter": "python", 
            "version": "3.5.5", 
            "name": "python", 
            "pygments_lexer": "ipython3", 
            "file_extension": ".py", 
            "codemirror_mode": {
                "version": 3, 
                "name": "ipython"
            }
        }
    }, 
    "nbformat": 4
}