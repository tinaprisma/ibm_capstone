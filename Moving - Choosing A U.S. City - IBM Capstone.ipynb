{
    "nbformat_minor": 1, 
    "cells": [
        {
            "source": "# Choosing a U.S. City to Live In ", 
            "cell_type": "markdown", 
            "metadata": {
                "collapsed": true
            }
        }, 
        {
            "source": "## Objective", 
            "cell_type": "markdown", 
            "metadata": {}
        }, 
        {
            "source": "I want move out from Houston. Now that I have the power of a Data Scientist, I can gather some data about several cities in mind and determine which one is the best fit for me.", 
            "cell_type": "markdown", 
            "metadata": {}
        }, 
        {
            "source": "## Introduction ", 
            "cell_type": "markdown", 
            "metadata": {}
        }, 
        {
            "source": "Houston is the 4th most populous city of the United States. It is considered one of the Oil and Gas capitals of the world. It also has a medical center with some of the nation's best hospitals.", 
            "cell_type": "markdown", 
            "metadata": {}
        }, 
        {
            "source": "While Houston is a major, important city with lots of job opportunities, I do not enjoy living here.", 
            "cell_type": "markdown", 
            "metadata": {}
        }, 
        {
            "source": "Why?", 
            "cell_type": "markdown", 
            "metadata": {}
        }, 
        {
            "source": "-----  Weather: it is too humid and hot. ", 
            "cell_type": "markdown", 
            "metadata": {}
        }, 
        {
            "source": "----   Pollen and mold: I have allergies, so the pollen really slows me down", 
            "cell_type": "markdown", 
            "metadata": {}
        }, 
        {
            "source": "----   Lack of scenery: while Houston has a large area of green spaces, these are not visible because it is an extremely flat city.", 
            "cell_type": "markdown", 
            "metadata": {}
        }, 
        {
            "source": "----  Lack of urbanization and beautification: Houston does not regulate placement of residential, business, and industrial buildings. This makes the city less than beautiful.", 
            "cell_type": "markdown", 
            "metadata": {}
        }, 
        {
            "source": "---- Lack of hiking trails: because it is flat, parks and green space does not offer any \"real\" hiking.", 
            "cell_type": "markdown", 
            "metadata": {}
        }, 
        {
            "source": "---- Political views: I would like to live in a liberal city, preferably liberal state.", 
            "cell_type": "markdown", 
            "metadata": {}
        }, 
        {
            "source": "---- Career: Not considered a tech hub", 
            "cell_type": "markdown", 
            "metadata": {}
        }, 
        {
            "source": "## Audience", 
            "cell_type": "markdown", 
            "metadata": {}
        }, 
        {
            "source": "This project may be of interest to any person trying to figure out where to move. In order to make an objective, responsible decision, one must research and weigh pros and cons.", 
            "cell_type": "markdown", 
            "metadata": {}
        }, 
        {
            "source": "Machine Learning may be better able to determine where we should move than ourselves.", 
            "cell_type": "markdown", 
            "metadata": {}
        }, 
        {
            "source": "## Data", 
            "cell_type": "markdown", 
            "metadata": {}
        }, 
        {
            "source": "I will gather data from various U.S. Cities that will be correlated to the measures listed above. For example, the number of recycling centers may be correlated with political affiliation.\nPresence of tech startups and coworking spaces is a proxy for tech hub.\nSpiritual centers would be a measure of diversity of thought.\nStreet Art, Sculpture, Botanical gardens, parks, trees, and trails will be proxy of beautification.\nUniversity will be proxy of educational status of population.", 
            "cell_type": "markdown", 
            "metadata": {}
        }, 
        {
            "source": "### Source 1: Foursquare. ", 
            "cell_type": "markdown", 
            "metadata": {}
        }, 
        {
            "source": "We will gather data on Foursquare from various cities. We would like to find out the cities with the most:", 
            "cell_type": "markdown", 
            "metadata": {}
        }, 
        {
            "source": "- Outdoors and Recreation Venues: Trails, Botanical Gardens, Forest, Mountain, Nature Preserve, National Park, Park, Tree", 
            "cell_type": "markdown", 
            "metadata": {}
        }, 
        {
            "source": "- Professional & Other Places: Outdoor Event Space, Library, Tech Startup, Coworking Space ", 
            "cell_type": "markdown", 
            "metadata": {}
        }, 
        {
            "source": "- Spiritual Center: Buddhist Temple, Hindu Temple (personal interest)", 
            "cell_type": "markdown", 
            "metadata": {}
        }, 
        {
            "source": "- Food and drink shop: Farmers Market, Health Food Store, Organic Grocery, Fruit and Vegetable Store, Juice Bar", 
            "cell_type": "markdown", 
            "metadata": {}
        }, 
        {
            "source": "- College and University: University", 
            "cell_type": "markdown", 
            "metadata": {}
        }, 
        {
            "source": "- Beautification: Street Art, Street Sculpture", 
            "cell_type": "markdown", 
            "metadata": {}
        }, 
        {
            "source": "- Recycling center", 
            "cell_type": "markdown", 
            "metadata": {}
        }, 
        {
            "source": "### Source 2: Weather Data", 
            "cell_type": "markdown", 
            "metadata": {}
        }, 
        {
            "source": "We need to find weather data on the cities of interest. This would include temperature data, precipitation, humidity index, pollen count, mold spore count.", 
            "cell_type": "markdown", 
            "metadata": {}
        }, 
        {
            "source": "###          Other Sources and Statistics to Consider:", 
            "cell_type": "markdown", 
            "metadata": {}
        }, 
        {
            "source": "I will have to think more deeply about where to find reliable data regarding these statistics and how to integrate them into my analysis: Healthiest US Cities, Best standard of living, cost of living, demographics.", 
            "cell_type": "markdown", 
            "metadata": {}
        }, 
        {
            "source": "## Methods", 
            "cell_type": "markdown", 
            "metadata": {}
        }, 
        {
            "source": "Will use one hot encoding and a grading algorithm to find out the best city for me to live in.", 
            "cell_type": "markdown", 
            "metadata": {}
        }, 
        {
            "source": "", 
            "cell_type": "code", 
            "metadata": {}, 
            "outputs": [], 
            "execution_count": null
        }
    ], 
    "metadata": {
        "kernelspec": {
            "display_name": "Python 3.5", 
            "name": "python3", 
            "language": "python"
        }, 
        "language_info": {
            "mimetype": "text/x-python", 
            "nbconvert_exporter": "python", 
            "version": "3.5.5", 
            "name": "python", 
            "pygments_lexer": "ipython3", 
            "file_extension": ".py", 
            "codemirror_mode": {
                "version": 3, 
                "name": "ipython"
            }
        }
    }, 
    "nbformat": 4
}